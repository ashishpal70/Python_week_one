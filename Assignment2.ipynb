{
 "cells": [
  {
   "cell_type": "code",
   "execution_count": null,
   "id": "6c0ff9ac-a1ad-40dc-b25c-33fed0e57fb7",
   "metadata": {},
   "outputs": [],
   "source": [
    "Q1. How do you comment code in Python? What are the different types of comments?"
   ]
  },
  {
   "cell_type": "code",
   "execution_count": null,
   "id": "d64d3c78-ca82-445d-80d2-72a717549d1a",
   "metadata": {},
   "outputs": [],
   "source": [
    "By using # and ''' .There are two types of comments single line and multiple line comments .\n",
    "1.Single line comment\n",
    "#comment code in Python\n",
    "2.Multiple line comment\n",
    "'''comment code in Python\n",
    "different types of comments'''\n",
    "\n"
   ]
  },
  {
   "cell_type": "code",
   "execution_count": null,
   "id": "2046dffd-36f4-4a82-acbd-1104d0422a1c",
   "metadata": {},
   "outputs": [],
   "source": [
    "Q2. What are variables in Python? How do you declare and assign values to variables?"
   ]
  },
  {
   "cell_type": "code",
   "execution_count": null,
   "id": "e4fed5fe-735b-4cb7-99ef-73cd6ff24709",
   "metadata": {},
   "outputs": [],
   "source": [
    "A Python variable is a name that is refrence to the object.\n",
    "num1=100\n",
    "string='Delhi'\n"
   ]
  },
  {
   "cell_type": "code",
   "execution_count": null,
   "id": "fa3089a2-1255-4237-9be5-47cbf123e5b0",
   "metadata": {},
   "outputs": [],
   "source": [
    "Q3. How do you convert one data type to another in Python?"
   ]
  },
  {
   "cell_type": "code",
   "execution_count": 2,
   "id": "2549d8b1-bd13-4106-85e7-d82b45a654bd",
   "metadata": {},
   "outputs": [],
   "source": [
    "#Through type casting one data type can be converted into other.\n",
    "num2=100"
   ]
  },
  {
   "cell_type": "code",
   "execution_count": 3,
   "id": "73a6daa3-3849-4596-8f9a-888dd5efd53d",
   "metadata": {},
   "outputs": [
    {
     "data": {
      "text/plain": [
       "int"
      ]
     },
     "execution_count": 3,
     "metadata": {},
     "output_type": "execute_result"
    }
   ],
   "source": [
    "type(num2)"
   ]
  },
  {
   "cell_type": "code",
   "execution_count": 6,
   "id": "6837a008-80b3-48ce-aaef-8d0dd8d4e1e2",
   "metadata": {},
   "outputs": [],
   "source": [
    "num2=str(num2)"
   ]
  },
  {
   "cell_type": "code",
   "execution_count": 7,
   "id": "933ec799-6add-458f-85ca-15a212a4424b",
   "metadata": {},
   "outputs": [
    {
     "data": {
      "text/plain": [
       "str"
      ]
     },
     "execution_count": 7,
     "metadata": {},
     "output_type": "execute_result"
    }
   ],
   "source": [
    "type(num2)"
   ]
  },
  {
   "cell_type": "code",
   "execution_count": null,
   "id": "48e3602e-ece0-4517-8d9f-8a7edf41558d",
   "metadata": {},
   "outputs": [],
   "source": [
    "Q4. How do you write and execute a Python script from the command line?"
   ]
  },
  {
   "cell_type": "code",
   "execution_count": null,
   "id": "5c550898-4210-448b-93d6-ec894d8bd270",
   "metadata": {},
   "outputs": [],
   "source": [
    "1.Using python command\n",
    "python first_script.py\n",
    "Hello World!"
   ]
  },
  {
   "cell_type": "code",
   "execution_count": null,
   "id": "a4bee3ed-0d20-44fd-a9f7-4882bcf468be",
   "metadata": {},
   "outputs": [],
   "source": [
    "Q5. Given a list my_list = [1, 2, 3, 4, 5], write the code to slice the list and obtain the sub-list [2, 3]."
   ]
  },
  {
   "cell_type": "code",
   "execution_count": 8,
   "id": "ad2a5376-5274-41c5-bf0c-1d1490bf9cfc",
   "metadata": {},
   "outputs": [],
   "source": [
    "my_list=[1,2,3,4,5]"
   ]
  },
  {
   "cell_type": "code",
   "execution_count": 9,
   "id": "09d3b2a7-2af8-4913-bb48-620cf86cf15a",
   "metadata": {},
   "outputs": [
    {
     "data": {
      "text/plain": [
       "[1, 2, 3, 4, 5]"
      ]
     },
     "execution_count": 9,
     "metadata": {},
     "output_type": "execute_result"
    }
   ],
   "source": [
    "my_list"
   ]
  },
  {
   "cell_type": "code",
   "execution_count": 10,
   "id": "09cb24a7-60f9-4a84-b144-e9271231117e",
   "metadata": {},
   "outputs": [
    {
     "data": {
      "text/plain": [
       "[2, 3]"
      ]
     },
     "execution_count": 10,
     "metadata": {},
     "output_type": "execute_result"
    }
   ],
   "source": [
    "my_list[1:3]"
   ]
  },
  {
   "cell_type": "code",
   "execution_count": null,
   "id": "5980150d-06c3-4a3e-89b0-b68a08564173",
   "metadata": {},
   "outputs": [],
   "source": [
    "Q6. What is a complex number in mathematics, and how is it represented in Python?"
   ]
  },
  {
   "cell_type": "code",
   "execution_count": 11,
   "id": "7086916b-07cd-4307-b950-e75a973a16fd",
   "metadata": {},
   "outputs": [],
   "source": [
    "# Complex numbers are the numbers that are expressed in the form of a+ib where, a,b are real numbers and 'i' is an imaginary number.\n",
    "# In Python it is represented by a+bj\n",
    "complex_number= 4+5j"
   ]
  },
  {
   "cell_type": "code",
   "execution_count": 12,
   "id": "2fb24eaa-6004-47b6-8be9-6151ce06f89b",
   "metadata": {},
   "outputs": [
    {
     "data": {
      "text/plain": [
       "complex"
      ]
     },
     "execution_count": 12,
     "metadata": {},
     "output_type": "execute_result"
    }
   ],
   "source": [
    "type(complex_number)"
   ]
  },
  {
   "cell_type": "code",
   "execution_count": null,
   "id": "8a880831-cee2-4cbf-b573-fe997c5627e8",
   "metadata": {},
   "outputs": [],
   "source": [
    "Q7. What is the correct way to declare a variable named age and assign the value 25 to it?"
   ]
  },
  {
   "cell_type": "code",
   "execution_count": null,
   "id": "220f1c93-9120-44bc-af44-6620f1c3efe5",
   "metadata": {},
   "outputs": [],
   "source": [
    "Age=25"
   ]
  },
  {
   "cell_type": "code",
   "execution_count": null,
   "id": "23c02c04-7d27-49c9-8ed3-0d32bb7260bd",
   "metadata": {},
   "outputs": [],
   "source": [
    "Q8. Declare a variable named price and assign the value 9.99 to it. What data type does this variable\n",
    "belong to?"
   ]
  },
  {
   "cell_type": "code",
   "execution_count": 13,
   "id": "da20247e-2ae6-4357-ada5-6a414c1b4b91",
   "metadata": {},
   "outputs": [],
   "source": [
    "Price=9.99"
   ]
  },
  {
   "cell_type": "code",
   "execution_count": 14,
   "id": "b586a97f-59ea-48c8-9c4b-b610a3080448",
   "metadata": {},
   "outputs": [
    {
     "data": {
      "text/plain": [
       "float"
      ]
     },
     "execution_count": 14,
     "metadata": {},
     "output_type": "execute_result"
    }
   ],
   "source": [
    "type(Price)"
   ]
  },
  {
   "cell_type": "code",
   "execution_count": null,
   "id": "05237ef0-7402-4121-845d-7f155f12f3cd",
   "metadata": {},
   "outputs": [],
   "source": [
    "Q9. Create a variable named name and assign your full name to it as a string. How would you print the\n",
    "value of this variable?"
   ]
  },
  {
   "cell_type": "code",
   "execution_count": 15,
   "id": "4745ffef-ecb7-4de7-8df2-5eec5cb7e009",
   "metadata": {},
   "outputs": [
    {
     "name": "stdout",
     "output_type": "stream",
     "text": [
      "Ashish Pal\n"
     ]
    }
   ],
   "source": [
    "name=\"Ashish Pal\"\n",
    "print(name)"
   ]
  },
  {
   "cell_type": "code",
   "execution_count": null,
   "id": "cf38a1d2-f097-41db-8307-095aa41cffb0",
   "metadata": {},
   "outputs": [],
   "source": [
    "Q10. Given the string \"Hello, World!\", extract the substring \"World\"."
   ]
  },
  {
   "cell_type": "code",
   "execution_count": 16,
   "id": "b0059a32-2eef-4d2a-99c5-345b767e36c5",
   "metadata": {},
   "outputs": [],
   "source": [
    "String = \"Hello, World!\""
   ]
  },
  {
   "cell_type": "code",
   "execution_count": 21,
   "id": "980e9b5b-a28e-4563-b89e-805728fa079f",
   "metadata": {},
   "outputs": [
    {
     "data": {
      "text/plain": [
       "'World'"
      ]
     },
     "execution_count": 21,
     "metadata": {},
     "output_type": "execute_result"
    }
   ],
   "source": [
    "String[7:12]"
   ]
  },
  {
   "cell_type": "code",
   "execution_count": 23,
   "id": "58279c22-db23-4e52-8404-0bd9aca7a31d",
   "metadata": {},
   "outputs": [
    {
     "data": {
      "text/plain": [
       "'World'"
      ]
     },
     "execution_count": 23,
     "metadata": {},
     "output_type": "execute_result"
    }
   ],
   "source": [
    "String[-6:-1]"
   ]
  },
  {
   "cell_type": "code",
   "execution_count": null,
   "id": "d0dd6bdc-21c9-4c5b-8225-50b92c816e9b",
   "metadata": {},
   "outputs": [],
   "source": [
    "Q11. Create a variable named \"is_student\" and assign it a boolean value indicating whether you are\n",
    "currently a student or not."
   ]
  },
  {
   "cell_type": "code",
   "execution_count": 25,
   "id": "c493184e-2b64-40f9-9ab5-a43eeeb0dfce",
   "metadata": {},
   "outputs": [
    {
     "name": "stdout",
     "output_type": "stream",
     "text": [
      "You are a currently a Student\n"
     ]
    }
   ],
   "source": [
    "is_student=True\n",
    "if is_student:\n",
    "    print(\"You are a currently a Student\")\n",
    "else:\n",
    "    print(\"You are not a Student\")\n"
   ]
  },
  {
   "cell_type": "code",
   "execution_count": null,
   "id": "4f55a1e4-6d0e-47b3-b467-f1c2320c68fb",
   "metadata": {},
   "outputs": [],
   "source": []
  }
 ],
 "metadata": {
  "kernelspec": {
   "display_name": "Python 3 (ipykernel)",
   "language": "python",
   "name": "python3"
  },
  "language_info": {
   "codemirror_mode": {
    "name": "ipython",
    "version": 3
   },
   "file_extension": ".py",
   "mimetype": "text/x-python",
   "name": "python",
   "nbconvert_exporter": "python",
   "pygments_lexer": "ipython3",
   "version": "3.10.8"
  }
 },
 "nbformat": 4,
 "nbformat_minor": 5
}
