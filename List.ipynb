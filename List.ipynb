{
 "cells": [
  {
   "cell_type": "code",
   "execution_count": 1,
   "id": "d26a9c68-ae1d-44d5-aa61-d69d5c030288",
   "metadata": {},
   "outputs": [],
   "source": [
    "# List"
   ]
  },
  {
   "cell_type": "code",
   "execution_count": 2,
   "id": "709cd0b7-c7df-4be3-a9bd-1edcd7b82f8f",
   "metadata": {},
   "outputs": [],
   "source": [
    "l=[1,2,\"Mumbai\",5+8j,345.7]"
   ]
  },
  {
   "cell_type": "code",
   "execution_count": 3,
   "id": "9a32e9f1-7cd5-4353-81e2-ef6203dd9f86",
   "metadata": {},
   "outputs": [
    {
     "data": {
      "text/plain": [
       "list"
      ]
     },
     "execution_count": 3,
     "metadata": {},
     "output_type": "execute_result"
    }
   ],
   "source": [
    "type(l)"
   ]
  },
  {
   "cell_type": "code",
   "execution_count": 4,
   "id": "754d5bad-808e-4c40-9fd9-d416a264b115",
   "metadata": {},
   "outputs": [
    {
     "data": {
      "text/plain": [
       "1"
      ]
     },
     "execution_count": 4,
     "metadata": {},
     "output_type": "execute_result"
    }
   ],
   "source": [
    "l[0]"
   ]
  },
  {
   "cell_type": "code",
   "execution_count": 5,
   "id": "0f8b9dd3-3c9e-486c-b73b-453f6e402662",
   "metadata": {},
   "outputs": [
    {
     "ename": "IndexError",
     "evalue": "list index out of range",
     "output_type": "error",
     "traceback": [
      "\u001b[0;31m---------------------------------------------------------------------------\u001b[0m",
      "\u001b[0;31mIndexError\u001b[0m                                Traceback (most recent call last)",
      "Cell \u001b[0;32mIn[5], line 1\u001b[0m\n\u001b[0;32m----> 1\u001b[0m \u001b[43ml\u001b[49m\u001b[43m[\u001b[49m\u001b[38;5;241;43m90\u001b[39;49m\u001b[43m]\u001b[49m\n",
      "\u001b[0;31mIndexError\u001b[0m: list index out of range"
     ]
    }
   ],
   "source": [
    "l[90]"
   ]
  },
  {
   "cell_type": "code",
   "execution_count": 8,
   "id": "2830e805-8edd-4f0f-a321-3015b8acbc82",
   "metadata": {},
   "outputs": [
    {
     "data": {
      "text/plain": [
       "[1, 2, 'Mumbai']"
      ]
     },
     "execution_count": 8,
     "metadata": {},
     "output_type": "execute_result"
    }
   ],
   "source": [
    "# Forward Indexing\n",
    "l[0:3]"
   ]
  },
  {
   "cell_type": "code",
   "execution_count": 9,
   "id": "091ba79b-d75c-403e-8b99-eb79f66ee05f",
   "metadata": {},
   "outputs": [
    {
     "data": {
      "text/plain": [
       "345.7"
      ]
     },
     "execution_count": 9,
     "metadata": {},
     "output_type": "execute_result"
    }
   ],
   "source": [
    "# Reverse Indexing\n",
    "l[-1]"
   ]
  },
  {
   "cell_type": "code",
   "execution_count": 10,
   "id": "7bf80da2-db55-4328-8082-f6936d440d29",
   "metadata": {},
   "outputs": [
    {
     "data": {
      "text/plain": [
       "[345.7, (5+8j), 'Mumbai', 2, 1]"
      ]
     },
     "execution_count": 10,
     "metadata": {},
     "output_type": "execute_result"
    }
   ],
   "source": [
    "#Reverse a list\n",
    "l[::-1]"
   ]
  },
  {
   "cell_type": "code",
   "execution_count": 14,
   "id": "fa8dda48-63f3-46d1-82d3-461fbb118fed",
   "metadata": {},
   "outputs": [
    {
     "data": {
      "text/plain": [
       "[2, (5+8j)]"
      ]
     },
     "execution_count": 14,
     "metadata": {},
     "output_type": "execute_result"
    }
   ],
   "source": [
    "l[1::2]"
   ]
  },
  {
   "cell_type": "code",
   "execution_count": 15,
   "id": "5124ed34-a310-4396-a3a0-6a54a5e46824",
   "metadata": {},
   "outputs": [
    {
     "data": {
      "text/plain": [
       "[1, 2, 'Mumbai', (5+8j), 345.7]"
      ]
     },
     "execution_count": 15,
     "metadata": {},
     "output_type": "execute_result"
    }
   ],
   "source": [
    "l"
   ]
  },
  {
   "cell_type": "code",
   "execution_count": 16,
   "id": "9bb49ad1-85c5-46c8-a4c6-72a2d47a1954",
   "metadata": {},
   "outputs": [],
   "source": [
    "string=\"Delhi is capital of India\""
   ]
  },
  {
   "cell_type": "code",
   "execution_count": 17,
   "id": "d1c10bd5-d286-477f-9d83-eb6749915eb5",
   "metadata": {},
   "outputs": [
    {
     "data": {
      "text/plain": [
       "'Delhi is capital of India'"
      ]
     },
     "execution_count": 17,
     "metadata": {},
     "output_type": "execute_result"
    }
   ],
   "source": [
    "string"
   ]
  },
  {
   "cell_type": "code",
   "execution_count": 18,
   "id": "7216a993-8a41-4ac1-ab44-3c6d2fc89f2b",
   "metadata": {},
   "outputs": [
    {
     "ename": "TypeError",
     "evalue": "can only concatenate list (not \"str\") to list",
     "output_type": "error",
     "traceback": [
      "\u001b[0;31m---------------------------------------------------------------------------\u001b[0m",
      "\u001b[0;31mTypeError\u001b[0m                                 Traceback (most recent call last)",
      "Cell \u001b[0;32mIn[18], line 1\u001b[0m\n\u001b[0;32m----> 1\u001b[0m \u001b[43ml\u001b[49m\u001b[38;5;241;43m+\u001b[39;49m\u001b[43mstring\u001b[49m\n",
      "\u001b[0;31mTypeError\u001b[0m: can only concatenate list (not \"str\") to list"
     ]
    }
   ],
   "source": [
    "l+string"
   ]
  },
  {
   "cell_type": "code",
   "execution_count": null,
   "id": "80907a73-2ff1-4a58-a91f-1a636626c54b",
   "metadata": {},
   "outputs": [],
   "source": [
    "Adding list and string together. we need \n",
    "append()\n"
   ]
  },
  {
   "cell_type": "code",
   "execution_count": 21,
   "id": "02fd4a48-1d3a-4b95-89b8-f34330e77afe",
   "metadata": {},
   "outputs": [
    {
     "data": {
      "text/plain": [
       "'Mumbai'"
      ]
     },
     "execution_count": 21,
     "metadata": {},
     "output_type": "execute_result"
    }
   ],
   "source": [
    "l[2]"
   ]
  },
  {
   "cell_type": "code",
   "execution_count": 22,
   "id": "d6d6af2a-2988-4c56-98c0-f8c97dcdd595",
   "metadata": {},
   "outputs": [
    {
     "data": {
      "text/plain": [
       "'Mu'"
      ]
     },
     "execution_count": 22,
     "metadata": {},
     "output_type": "execute_result"
    }
   ],
   "source": [
    "l[2][0:2]"
   ]
  },
  {
   "cell_type": "code",
   "execution_count": 23,
   "id": "47752297-7cdf-4bd9-8a83-bdb44adcce0c",
   "metadata": {},
   "outputs": [],
   "source": [
    "l1=[3,4,5]"
   ]
  },
  {
   "cell_type": "code",
   "execution_count": 24,
   "id": "1d4573f5-2e90-414c-8246-325b5707b53f",
   "metadata": {},
   "outputs": [
    {
     "data": {
      "text/plain": [
       "[1, 2, 'Mumbai', (5+8j), 345.7, 3, 4, 5]"
      ]
     },
     "execution_count": 24,
     "metadata": {},
     "output_type": "execute_result"
    }
   ],
   "source": [
    "#Adding two list together\n",
    "l+l1"
   ]
  },
  {
   "cell_type": "code",
   "execution_count": 25,
   "id": "3c40cc95-f9e4-4395-8fdb-da08b13f0e49",
   "metadata": {},
   "outputs": [
    {
     "data": {
      "text/plain": [
       "[3, 4, 5, 3, 4, 5, 3, 4, 5]"
      ]
     },
     "execution_count": 25,
     "metadata": {},
     "output_type": "execute_result"
    }
   ],
   "source": [
    "l1*3"
   ]
  },
  {
   "cell_type": "code",
   "execution_count": 26,
   "id": "75ed23b2-a2d4-4936-a828-12eacb4aefe2",
   "metadata": {},
   "outputs": [
    {
     "data": {
      "text/plain": [
       "[1, 2, 'Mumbai', (5+8j), 345.7]"
      ]
     },
     "execution_count": 26,
     "metadata": {},
     "output_type": "execute_result"
    }
   ],
   "source": [
    "l"
   ]
  },
  {
   "cell_type": "code",
   "execution_count": 27,
   "id": "7c5103c2-15d0-473d-95a2-bc07e1f79f0c",
   "metadata": {},
   "outputs": [
    {
     "data": {
      "text/plain": [
       "5"
      ]
     },
     "execution_count": 27,
     "metadata": {},
     "output_type": "execute_result"
    }
   ],
   "source": [
    "len(l)"
   ]
  },
  {
   "cell_type": "code",
   "execution_count": 32,
   "id": "1ac4f79b-9139-46e7-bda6-5ab86cd83efc",
   "metadata": {},
   "outputs": [],
   "source": [
    "l.append(5)"
   ]
  },
  {
   "cell_type": "code",
   "execution_count": 29,
   "id": "e1c0205f-9455-4b53-b696-828d9d190c61",
   "metadata": {},
   "outputs": [
    {
     "data": {
      "text/plain": [
       "[1, 2, 'Mumbai', (5+8j), 345.7, 5]"
      ]
     },
     "execution_count": 29,
     "metadata": {},
     "output_type": "execute_result"
    }
   ],
   "source": [
    "l"
   ]
  },
  {
   "cell_type": "code",
   "execution_count": 33,
   "id": "90e5cbda-06cb-480c-8ddc-69add71f71b8",
   "metadata": {},
   "outputs": [],
   "source": [
    "l.append(string)"
   ]
  },
  {
   "cell_type": "code",
   "execution_count": 34,
   "id": "080adfe4-597f-4d2f-9ec8-9eff4bb13d07",
   "metadata": {},
   "outputs": [
    {
     "data": {
      "text/plain": [
       "[1, 2, 'Mumbai', (5+8j), 345.7, 5, 5, 5, 5, 'Delhi is capital of India']"
      ]
     },
     "execution_count": 34,
     "metadata": {},
     "output_type": "execute_result"
    }
   ],
   "source": [
    "l"
   ]
  },
  {
   "cell_type": "code",
   "execution_count": 35,
   "id": "8072425d-3bec-4b6f-8c38-3602f3bf645a",
   "metadata": {},
   "outputs": [],
   "source": [
    "l.append(l1)"
   ]
  },
  {
   "cell_type": "code",
   "execution_count": 36,
   "id": "22cd9224-27ad-449b-822c-7891742b9b1b",
   "metadata": {},
   "outputs": [
    {
     "data": {
      "text/plain": [
       "[1,\n",
       " 2,\n",
       " 'Mumbai',\n",
       " (5+8j),\n",
       " 345.7,\n",
       " 5,\n",
       " 5,\n",
       " 5,\n",
       " 5,\n",
       " 'Delhi is capital of India',\n",
       " [3, 4, 5]]"
      ]
     },
     "execution_count": 36,
     "metadata": {},
     "output_type": "execute_result"
    }
   ],
   "source": [
    "l"
   ]
  },
  {
   "cell_type": "code",
   "execution_count": 37,
   "id": "50d5b439-04e2-4aba-9e53-f47ded739abd",
   "metadata": {},
   "outputs": [
    {
     "data": {
      "text/plain": [
       "[3, 4, 5]"
      ]
     },
     "execution_count": 37,
     "metadata": {},
     "output_type": "execute_result"
    }
   ],
   "source": [
    "l[-1]\n"
   ]
  },
  {
   "cell_type": "code",
   "execution_count": 39,
   "id": "389d1560-63e2-4205-8cb7-da07f56199b4",
   "metadata": {},
   "outputs": [
    {
     "data": {
      "text/plain": [
       "4"
      ]
     },
     "execution_count": 39,
     "metadata": {},
     "output_type": "execute_result"
    }
   ],
   "source": [
    "l[-1][1]"
   ]
  },
  {
   "cell_type": "code",
   "execution_count": 40,
   "id": "6aa9de8c-0732-46cd-9883-d70a25144615",
   "metadata": {},
   "outputs": [],
   "source": [
    "# Extend function"
   ]
  },
  {
   "cell_type": "code",
   "execution_count": 41,
   "id": "edabaa70-bd7f-47a2-b73d-54fed2991742",
   "metadata": {},
   "outputs": [
    {
     "data": {
      "text/plain": [
       "[1,\n",
       " 2,\n",
       " 'Mumbai',\n",
       " (5+8j),\n",
       " 345.7,\n",
       " 5,\n",
       " 5,\n",
       " 5,\n",
       " 5,\n",
       " 'Delhi is capital of India',\n",
       " [3, 4, 5]]"
      ]
     },
     "execution_count": 41,
     "metadata": {},
     "output_type": "execute_result"
    }
   ],
   "source": [
    "l"
   ]
  },
  {
   "cell_type": "code",
   "execution_count": 42,
   "id": "7e75030d-4498-4fb5-8e12-090e194d7cc8",
   "metadata": {},
   "outputs": [
    {
     "ename": "TypeError",
     "evalue": "'int' object is not iterable",
     "output_type": "error",
     "traceback": [
      "\u001b[0;31m---------------------------------------------------------------------------\u001b[0m",
      "\u001b[0;31mTypeError\u001b[0m                                 Traceback (most recent call last)",
      "Cell \u001b[0;32mIn[42], line 1\u001b[0m\n\u001b[0;32m----> 1\u001b[0m \u001b[43ml\u001b[49m\u001b[38;5;241;43m.\u001b[39;49m\u001b[43mextend\u001b[49m\u001b[43m(\u001b[49m\u001b[38;5;241;43m4\u001b[39;49m\u001b[43m)\u001b[49m\n",
      "\u001b[0;31mTypeError\u001b[0m: 'int' object is not iterable"
     ]
    }
   ],
   "source": [
    "l.extend(4)"
   ]
  },
  {
   "cell_type": "code",
   "execution_count": 45,
   "id": "b4ed562e-ed11-466e-832a-1b17e04185b3",
   "metadata": {},
   "outputs": [],
   "source": [
    "l.extend(\"hyd\")"
   ]
  },
  {
   "cell_type": "code",
   "execution_count": 46,
   "id": "3bda4eb7-d649-478d-bafb-fce6f5315d7c",
   "metadata": {},
   "outputs": [
    {
     "data": {
      "text/plain": [
       "[1,\n",
       " 2,\n",
       " 'Mumbai',\n",
       " (5+8j),\n",
       " 345.7,\n",
       " 5,\n",
       " 5,\n",
       " 5,\n",
       " 5,\n",
       " 'Delhi is capital of India',\n",
       " [3, 4, 5],\n",
       " 'h',\n",
       " 'y',\n",
       " 'd',\n",
       " 'h',\n",
       " 'y',\n",
       " 'd']"
      ]
     },
     "execution_count": 46,
     "metadata": {},
     "output_type": "execute_result"
    }
   ],
   "source": [
    "l"
   ]
  },
  {
   "cell_type": "code",
   "execution_count": 47,
   "id": "16ceedd8-8911-4786-82a1-d7d4fa460b6a",
   "metadata": {},
   "outputs": [],
   "source": [
    "l.extend(l1)"
   ]
  },
  {
   "cell_type": "code",
   "execution_count": 48,
   "id": "8dd80dd0-cb80-4342-b3cb-4ffa042aabf7",
   "metadata": {},
   "outputs": [
    {
     "data": {
      "text/plain": [
       "[1,\n",
       " 2,\n",
       " 'Mumbai',\n",
       " (5+8j),\n",
       " 345.7,\n",
       " 5,\n",
       " 5,\n",
       " 5,\n",
       " 5,\n",
       " 'Delhi is capital of India',\n",
       " [3, 4, 5],\n",
       " 'h',\n",
       " 'y',\n",
       " 'd',\n",
       " 'h',\n",
       " 'y',\n",
       " 'd',\n",
       " 3,\n",
       " 4,\n",
       " 5]"
      ]
     },
     "execution_count": 48,
     "metadata": {},
     "output_type": "execute_result"
    }
   ],
   "source": [
    "l"
   ]
  },
  {
   "cell_type": "code",
   "execution_count": 49,
   "id": "3c1cc6fc-ddc8-4ffc-803e-0167cfd5b608",
   "metadata": {},
   "outputs": [
    {
     "data": {
      "text/plain": [
       "[3, 4, 5]"
      ]
     },
     "execution_count": 49,
     "metadata": {},
     "output_type": "execute_result"
    }
   ],
   "source": [
    "l1"
   ]
  },
  {
   "cell_type": "code",
   "execution_count": 50,
   "id": "80cdf4ae-973e-4b2b-b656-bccaf33fd1d8",
   "metadata": {},
   "outputs": [],
   "source": [
    "# Insert function"
   ]
  },
  {
   "cell_type": "code",
   "execution_count": 51,
   "id": "f569c5ce-93c8-48d9-a6a4-cc3949487a93",
   "metadata": {},
   "outputs": [],
   "source": [
    "l1.insert(1,\"luke\")"
   ]
  },
  {
   "cell_type": "code",
   "execution_count": 52,
   "id": "db558d19-f6c2-4ce6-853a-920ab0baec6f",
   "metadata": {},
   "outputs": [
    {
     "data": {
      "text/plain": [
       "[3, 'luke', 4, 5]"
      ]
     },
     "execution_count": 52,
     "metadata": {},
     "output_type": "execute_result"
    }
   ],
   "source": [
    "l1"
   ]
  },
  {
   "cell_type": "code",
   "execution_count": 53,
   "id": "720e9e22-4863-480f-81ec-0d69c65f27ee",
   "metadata": {},
   "outputs": [],
   "source": [
    "l1.insert(2,[2,3,4,5])"
   ]
  },
  {
   "cell_type": "code",
   "execution_count": 54,
   "id": "36a70dc5-432d-4444-8c14-2413db754247",
   "metadata": {},
   "outputs": [
    {
     "data": {
      "text/plain": [
       "[3, 'luke', [2, 3, 4, 5], 4, 5]"
      ]
     },
     "execution_count": 54,
     "metadata": {},
     "output_type": "execute_result"
    }
   ],
   "source": [
    "l1"
   ]
  },
  {
   "cell_type": "code",
   "execution_count": 55,
   "id": "9a64b9b1-ddd8-47a4-aece-482b3242cf30",
   "metadata": {},
   "outputs": [],
   "source": [
    "l1.insert(-1,45)"
   ]
  },
  {
   "cell_type": "code",
   "execution_count": 56,
   "id": "500b242d-c620-4d17-b497-851a908871e3",
   "metadata": {},
   "outputs": [
    {
     "data": {
      "text/plain": [
       "[3, 'luke', [2, 3, 4, 5], 4, 45, 5]"
      ]
     },
     "execution_count": 56,
     "metadata": {},
     "output_type": "execute_result"
    }
   ],
   "source": [
    "l1"
   ]
  },
  {
   "cell_type": "code",
   "execution_count": 57,
   "id": "bd39440a-19de-4bc8-b570-462c69192eb3",
   "metadata": {},
   "outputs": [],
   "source": [
    "l1.insert(-2,87)"
   ]
  },
  {
   "cell_type": "code",
   "execution_count": 58,
   "id": "d7bc5f9a-687e-4bb5-be94-362505e79947",
   "metadata": {},
   "outputs": [
    {
     "data": {
      "text/plain": [
       "[3, 'luke', [2, 3, 4, 5], 4, 87, 45, 5]"
      ]
     },
     "execution_count": 58,
     "metadata": {},
     "output_type": "execute_result"
    }
   ],
   "source": [
    "l1"
   ]
  },
  {
   "cell_type": "code",
   "execution_count": 59,
   "id": "3fd3aa51-0ad4-44b4-adbb-e2f922bb58d9",
   "metadata": {},
   "outputs": [],
   "source": [
    "#Pop"
   ]
  },
  {
   "cell_type": "code",
   "execution_count": 60,
   "id": "e8230dca-df6e-42ea-9203-d46a7615be09",
   "metadata": {},
   "outputs": [
    {
     "data": {
      "text/plain": [
       "5"
      ]
     },
     "execution_count": 60,
     "metadata": {},
     "output_type": "execute_result"
    }
   ],
   "source": [
    "l1.pop()"
   ]
  },
  {
   "cell_type": "code",
   "execution_count": 61,
   "id": "1bcce1c1-f19b-42ba-96a0-d553ee770956",
   "metadata": {},
   "outputs": [
    {
     "data": {
      "text/plain": [
       "[2, 3, 4, 5]"
      ]
     },
     "execution_count": 61,
     "metadata": {},
     "output_type": "execute_result"
    }
   ],
   "source": [
    "l1.pop(2)"
   ]
  },
  {
   "cell_type": "code",
   "execution_count": 62,
   "id": "52fd12fd-b2d1-457f-b990-227ff576af14",
   "metadata": {},
   "outputs": [
    {
     "data": {
      "text/plain": [
       "[3, 'luke', 4, 87, 45]"
      ]
     },
     "execution_count": 62,
     "metadata": {},
     "output_type": "execute_result"
    }
   ],
   "source": [
    "l1"
   ]
  },
  {
   "cell_type": "code",
   "execution_count": 63,
   "id": "6233fadd-c5fb-4846-a373-6e00cad3343b",
   "metadata": {},
   "outputs": [],
   "source": [
    "#remove\n",
    "#Remove first occurrence of value.it will gp ahead with value not indexes"
   ]
  },
  {
   "cell_type": "code",
   "execution_count": 64,
   "id": "e15c18ce-a5d6-42a7-b15f-70cc6e83fa7a",
   "metadata": {},
   "outputs": [],
   "source": [
    "l1.remove(3)"
   ]
  },
  {
   "cell_type": "code",
   "execution_count": 65,
   "id": "3a02929f-c01a-4708-b4d1-683abc39ad71",
   "metadata": {},
   "outputs": [
    {
     "data": {
      "text/plain": [
       "['luke', 4, 87, 45]"
      ]
     },
     "execution_count": 65,
     "metadata": {},
     "output_type": "execute_result"
    }
   ],
   "source": [
    "l1"
   ]
  },
  {
   "cell_type": "code",
   "execution_count": 66,
   "id": "b4747882-a946-4957-a8bc-6e12a9725820",
   "metadata": {},
   "outputs": [
    {
     "ename": "ValueError",
     "evalue": "list.remove(x): x not in list",
     "output_type": "error",
     "traceback": [
      "\u001b[0;31m---------------------------------------------------------------------------\u001b[0m",
      "\u001b[0;31mValueError\u001b[0m                                Traceback (most recent call last)",
      "Cell \u001b[0;32mIn[66], line 1\u001b[0m\n\u001b[0;32m----> 1\u001b[0m \u001b[43ml1\u001b[49m\u001b[38;5;241;43m.\u001b[39;49m\u001b[43mremove\u001b[49m\u001b[43m(\u001b[49m\u001b[38;5;241;43m234\u001b[39;49m\u001b[43m)\u001b[49m\n",
      "\u001b[0;31mValueError\u001b[0m: list.remove(x): x not in list"
     ]
    }
   ],
   "source": [
    "l1.remove(234)"
   ]
  },
  {
   "cell_type": "code",
   "execution_count": 67,
   "id": "33776c7c-46c6-4de0-a11e-6ce52bcc7c37",
   "metadata": {},
   "outputs": [],
   "source": [
    "l1.append([2,3,4])"
   ]
  },
  {
   "cell_type": "code",
   "execution_count": 68,
   "id": "2dabb169-c7f5-44f9-856b-c09af8772813",
   "metadata": {},
   "outputs": [
    {
     "data": {
      "text/plain": [
       "['luke', 4, 87, 45, [2, 3, 4]]"
      ]
     },
     "execution_count": 68,
     "metadata": {},
     "output_type": "execute_result"
    }
   ],
   "source": [
    "l1"
   ]
  },
  {
   "cell_type": "code",
   "execution_count": 69,
   "id": "76fc4a4a-203e-4e5f-b7f5-7a0e8074863e",
   "metadata": {},
   "outputs": [
    {
     "data": {
      "text/plain": [
       "[2, 3, 4]"
      ]
     },
     "execution_count": 69,
     "metadata": {},
     "output_type": "execute_result"
    }
   ],
   "source": [
    "l1[-1]"
   ]
  },
  {
   "cell_type": "code",
   "execution_count": 70,
   "id": "1cd8451e-ba74-4bdf-a76a-381f1593e834",
   "metadata": {},
   "outputs": [],
   "source": [
    "l1[-1].remove(3)"
   ]
  },
  {
   "cell_type": "code",
   "execution_count": 71,
   "id": "495c8cee-be6d-4330-85e0-e9de521928aa",
   "metadata": {},
   "outputs": [
    {
     "data": {
      "text/plain": [
       "['luke', 4, 87, 45, [2, 4]]"
      ]
     },
     "execution_count": 71,
     "metadata": {},
     "output_type": "execute_result"
    }
   ],
   "source": [
    "l1"
   ]
  },
  {
   "cell_type": "code",
   "execution_count": 72,
   "id": "5648a8b1-441d-4c33-be8a-b4dabb6ad4bd",
   "metadata": {},
   "outputs": [
    {
     "data": {
      "text/plain": [
       "['luke', 4, 87, 45, [2, 4]]"
      ]
     },
     "execution_count": 72,
     "metadata": {},
     "output_type": "execute_result"
    }
   ],
   "source": [
    "l1"
   ]
  },
  {
   "cell_type": "code",
   "execution_count": null,
   "id": "b8b04d1f-c1ec-4a4d-b5c8-720e91dd4a5d",
   "metadata": {},
   "outputs": [],
   "source": [
    "#reverse"
   ]
  },
  {
   "cell_type": "code",
   "execution_count": 73,
   "id": "d3c49b94-ed8d-494f-8f0e-80519a37a8c2",
   "metadata": {},
   "outputs": [],
   "source": [
    "l1.reverse()"
   ]
  },
  {
   "cell_type": "code",
   "execution_count": 74,
   "id": "c5843c58-dce7-41a3-8b46-1d0646e951b6",
   "metadata": {},
   "outputs": [
    {
     "data": {
      "text/plain": [
       "[[2, 4], 45, 87, 4, 'luke']"
      ]
     },
     "execution_count": 74,
     "metadata": {},
     "output_type": "execute_result"
    }
   ],
   "source": [
    "l1"
   ]
  },
  {
   "cell_type": "code",
   "execution_count": 75,
   "id": "45fae4d7-6c33-4e55-8030-357abfc1ced5",
   "metadata": {},
   "outputs": [
    {
     "data": {
      "text/plain": [
       "[[2, 4], 45, 87, 4, 'luke']"
      ]
     },
     "execution_count": 75,
     "metadata": {},
     "output_type": "execute_result"
    }
   ],
   "source": [
    "l1"
   ]
  },
  {
   "cell_type": "code",
   "execution_count": null,
   "id": "1844320b-1907-4f6d-9813-0609d2893dc0",
   "metadata": {},
   "outputs": [],
   "source": [
    "#sort"
   ]
  },
  {
   "cell_type": "code",
   "execution_count": 76,
   "id": "9304469f-beac-442a-b4d8-a470acdd5d07",
   "metadata": {},
   "outputs": [
    {
     "ename": "TypeError",
     "evalue": "'<' not supported between instances of 'int' and 'list'",
     "output_type": "error",
     "traceback": [
      "\u001b[0;31m---------------------------------------------------------------------------\u001b[0m",
      "\u001b[0;31mTypeError\u001b[0m                                 Traceback (most recent call last)",
      "Cell \u001b[0;32mIn[76], line 1\u001b[0m\n\u001b[0;32m----> 1\u001b[0m \u001b[43ml1\u001b[49m\u001b[38;5;241;43m.\u001b[39;49m\u001b[43msort\u001b[49m\u001b[43m(\u001b[49m\u001b[43m)\u001b[49m\n",
      "\u001b[0;31mTypeError\u001b[0m: '<' not supported between instances of 'int' and 'list'"
     ]
    }
   ],
   "source": [
    "l1.sort()"
   ]
  },
  {
   "cell_type": "code",
   "execution_count": 77,
   "id": "877b4d89-b9d5-4910-a7ef-70eaad565856",
   "metadata": {},
   "outputs": [],
   "source": [
    "l2=[4,8,97,9]"
   ]
  },
  {
   "cell_type": "code",
   "execution_count": 78,
   "id": "042c7957-ada5-4a15-9ed2-2b8631f10501",
   "metadata": {},
   "outputs": [
    {
     "data": {
      "text/plain": [
       "[4, 8, 97, 9]"
      ]
     },
     "execution_count": 78,
     "metadata": {},
     "output_type": "execute_result"
    }
   ],
   "source": [
    "l2"
   ]
  },
  {
   "cell_type": "code",
   "execution_count": 79,
   "id": "b8bfd465-ae5d-4c69-91ea-d779c2e167be",
   "metadata": {},
   "outputs": [],
   "source": [
    "l2.sort()"
   ]
  },
  {
   "cell_type": "code",
   "execution_count": 80,
   "id": "ce652af4-6459-419c-b9b7-c0fc5b182c1f",
   "metadata": {},
   "outputs": [
    {
     "data": {
      "text/plain": [
       "[4, 8, 9, 97]"
      ]
     },
     "execution_count": 80,
     "metadata": {},
     "output_type": "execute_result"
    }
   ],
   "source": [
    "l2"
   ]
  },
  {
   "cell_type": "code",
   "execution_count": 81,
   "id": "1cf7a75d-3951-4dfd-9875-a325d805c86f",
   "metadata": {},
   "outputs": [],
   "source": [
    "l3=[34,\"kum\",78,90]"
   ]
  },
  {
   "cell_type": "code",
   "execution_count": 82,
   "id": "058a056f-f898-4259-80f1-f94203df6b4c",
   "metadata": {},
   "outputs": [
    {
     "ename": "TypeError",
     "evalue": "'<' not supported between instances of 'str' and 'int'",
     "output_type": "error",
     "traceback": [
      "\u001b[0;31m---------------------------------------------------------------------------\u001b[0m",
      "\u001b[0;31mTypeError\u001b[0m                                 Traceback (most recent call last)",
      "Cell \u001b[0;32mIn[82], line 1\u001b[0m\n\u001b[0;32m----> 1\u001b[0m \u001b[43ml3\u001b[49m\u001b[38;5;241;43m.\u001b[39;49m\u001b[43msort\u001b[49m\u001b[43m(\u001b[49m\u001b[43m)\u001b[49m\n",
      "\u001b[0;31mTypeError\u001b[0m: '<' not supported between instances of 'str' and 'int'"
     ]
    }
   ],
   "source": [
    "l3.sort()"
   ]
  },
  {
   "cell_type": "code",
   "execution_count": 83,
   "id": "4a0f08be-4b6e-4cb5-bc27-3e05837fecd1",
   "metadata": {},
   "outputs": [],
   "source": [
    "l4=['Del','mum','hyd']"
   ]
  },
  {
   "cell_type": "code",
   "execution_count": 84,
   "id": "7ec8df66-bb85-4c86-867f-0899c48f2345",
   "metadata": {},
   "outputs": [],
   "source": [
    "l4.sort()"
   ]
  },
  {
   "cell_type": "code",
   "execution_count": 85,
   "id": "5989c390-f39d-49d3-9e87-4207f23f8770",
   "metadata": {},
   "outputs": [
    {
     "data": {
      "text/plain": [
       "['Del', 'hyd', 'mum']"
      ]
     },
     "execution_count": 85,
     "metadata": {},
     "output_type": "execute_result"
    }
   ],
   "source": [
    "l4"
   ]
  },
  {
   "cell_type": "code",
   "execution_count": 86,
   "id": "3dec06b5-5142-4332-9033-73796effd216",
   "metadata": {},
   "outputs": [],
   "source": [
    "l4.sort(reverse=True)"
   ]
  },
  {
   "cell_type": "code",
   "execution_count": 87,
   "id": "28ee5ca3-d259-4b7a-9f8b-d1b595e2740f",
   "metadata": {},
   "outputs": [
    {
     "data": {
      "text/plain": [
       "['mum', 'hyd', 'Del']"
      ]
     },
     "execution_count": 87,
     "metadata": {},
     "output_type": "execute_result"
    }
   ],
   "source": [
    "l4"
   ]
  },
  {
   "cell_type": "code",
   "execution_count": 89,
   "id": "0e744678-d276-41dc-bce9-d57a8c894d9c",
   "metadata": {},
   "outputs": [
    {
     "data": {
      "text/plain": [
       "1"
      ]
     },
     "execution_count": 89,
     "metadata": {},
     "output_type": "execute_result"
    }
   ],
   "source": [
    "l4.index(\"hyd\")"
   ]
  },
  {
   "cell_type": "code",
   "execution_count": 90,
   "id": "dfa9d54a-d55a-43b3-b129-fb61760b3ed9",
   "metadata": {},
   "outputs": [
    {
     "data": {
      "text/plain": [
       "1"
      ]
     },
     "execution_count": 90,
     "metadata": {},
     "output_type": "execute_result"
    }
   ],
   "source": [
    "l4.count('hyd')"
   ]
  },
  {
   "cell_type": "code",
   "execution_count": 91,
   "id": "0d43baab-7bcd-4806-9054-120a10cfb40c",
   "metadata": {},
   "outputs": [],
   "source": [
    "S='delhi'"
   ]
  },
  {
   "cell_type": "code",
   "execution_count": 93,
   "id": "74734fb6-d9e2-42df-a4f5-72c747661bb7",
   "metadata": {},
   "outputs": [
    {
     "data": {
      "text/plain": [
       "'delhi'"
      ]
     },
     "execution_count": 93,
     "metadata": {},
     "output_type": "execute_result"
    }
   ],
   "source": [
    "S"
   ]
  },
  {
   "cell_type": "code",
   "execution_count": 94,
   "id": "ca18545e-04da-4e90-8fc0-2dea54bb09d3",
   "metadata": {},
   "outputs": [
    {
     "data": {
      "text/plain": [
       "'eelhi'"
      ]
     },
     "execution_count": 94,
     "metadata": {},
     "output_type": "execute_result"
    }
   ],
   "source": [
    "S.replace('d','e')"
   ]
  },
  {
   "cell_type": "code",
   "execution_count": 95,
   "id": "5d33ed68-5707-4d9d-be25-176bba0f046c",
   "metadata": {},
   "outputs": [
    {
     "data": {
      "text/plain": [
       "'delhi'"
      ]
     },
     "execution_count": 95,
     "metadata": {},
     "output_type": "execute_result"
    }
   ],
   "source": [
    "S"
   ]
  },
  {
   "cell_type": "code",
   "execution_count": null,
   "id": "50cde673-7404-4e0a-97ce-6acce8cb6fe3",
   "metadata": {},
   "outputs": [],
   "source": []
  }
 ],
 "metadata": {
  "kernelspec": {
   "display_name": "Python 3 (ipykernel)",
   "language": "python",
   "name": "python3"
  },
  "language_info": {
   "codemirror_mode": {
    "name": "ipython",
    "version": 3
   },
   "file_extension": ".py",
   "mimetype": "text/x-python",
   "name": "python",
   "nbconvert_exporter": "python",
   "pygments_lexer": "ipython3",
   "version": "3.10.8"
  }
 },
 "nbformat": 4,
 "nbformat_minor": 5
}
