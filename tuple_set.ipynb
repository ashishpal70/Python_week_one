{
 "cells": [
  {
   "cell_type": "code",
   "execution_count": 1,
   "id": "3178ab53-365e-4ded-9bd7-4d208474f246",
   "metadata": {},
   "outputs": [],
   "source": [
    "#Tuple"
   ]
  },
  {
   "cell_type": "code",
   "execution_count": 3,
   "id": "3eff7807-7fcf-4029-974d-5a38af0979ed",
   "metadata": {},
   "outputs": [],
   "source": [
    "t=(1,2,3,'Mumbai',45+67j,True,[3,4,5])"
   ]
  },
  {
   "cell_type": "code",
   "execution_count": 3,
   "id": "9f5a0e45-d7f3-44f4-a9ca-94724cc7ecc0",
   "metadata": {},
   "outputs": [
    {
     "data": {
      "text/plain": [
       "tuple"
      ]
     },
     "execution_count": 3,
     "metadata": {},
     "output_type": "execute_result"
    }
   ],
   "source": [
    "type(t)"
   ]
  },
  {
   "cell_type": "code",
   "execution_count": 4,
   "id": "cbff1d3f-d051-4c70-880c-41c9a55f2677",
   "metadata": {},
   "outputs": [
    {
     "data": {
      "text/plain": [
       "(1, 2, 3, 'Mumbai', (45+67j), True, [3, 4, 5])"
      ]
     },
     "execution_count": 4,
     "metadata": {},
     "output_type": "execute_result"
    }
   ],
   "source": [
    "t"
   ]
  },
  {
   "cell_type": "code",
   "execution_count": 6,
   "id": "a5171b44-e294-4563-83d6-f824adda63ac",
   "metadata": {},
   "outputs": [
    {
     "data": {
      "text/plain": [
       "7"
      ]
     },
     "execution_count": 6,
     "metadata": {},
     "output_type": "execute_result"
    }
   ],
   "source": [
    "len(t)"
   ]
  },
  {
   "cell_type": "code",
   "execution_count": 7,
   "id": "d0ef2555-8e46-49c9-a206-78312547b197",
   "metadata": {},
   "outputs": [
    {
     "data": {
      "text/plain": [
       "1"
      ]
     },
     "execution_count": 7,
     "metadata": {},
     "output_type": "execute_result"
    }
   ],
   "source": [
    "t[0]"
   ]
  },
  {
   "cell_type": "code",
   "execution_count": 8,
   "id": "447752af-32c7-4575-9442-a6ed7907a72f",
   "metadata": {},
   "outputs": [
    {
     "data": {
      "text/plain": [
       "[3, 4, 5]"
      ]
     },
     "execution_count": 8,
     "metadata": {},
     "output_type": "execute_result"
    }
   ],
   "source": [
    "t[-1]"
   ]
  },
  {
   "cell_type": "code",
   "execution_count": 9,
   "id": "cccc5d74-e67f-44b9-88bc-54b5e82fc8eb",
   "metadata": {},
   "outputs": [
    {
     "data": {
      "text/plain": [
       "([3, 4, 5], True, (45+67j), 'Mumbai', 3, 2, 1)"
      ]
     },
     "execution_count": 9,
     "metadata": {},
     "output_type": "execute_result"
    }
   ],
   "source": [
    "t[::-1]"
   ]
  },
  {
   "cell_type": "code",
   "execution_count": 10,
   "id": "d194a893-89ed-4a3c-a30b-69ec475f929b",
   "metadata": {},
   "outputs": [
    {
     "ename": "TypeError",
     "evalue": "'tuple' object does not support item assignment",
     "output_type": "error",
     "traceback": [
      "\u001b[0;31m---------------------------------------------------------------------------\u001b[0m",
      "\u001b[0;31mTypeError\u001b[0m                                 Traceback (most recent call last)",
      "Cell \u001b[0;32mIn[10], line 1\u001b[0m\n\u001b[0;32m----> 1\u001b[0m \u001b[43mt\u001b[49m\u001b[43m[\u001b[49m\u001b[38;5;241;43m0\u001b[39;49m\u001b[43m]\u001b[49m\u001b[38;5;241m=\u001b[39m\u001b[38;5;124m\"\u001b[39m\u001b[38;5;124mluke\u001b[39m\u001b[38;5;124m\"\u001b[39m\n",
      "\u001b[0;31mTypeError\u001b[0m: 'tuple' object does not support item assignment"
     ]
    }
   ],
   "source": [
    "t[0]=\"luke\""
   ]
  },
  {
   "cell_type": "code",
   "execution_count": 11,
   "id": "48522c82-1d48-4adf-b81c-97555c6412fd",
   "metadata": {},
   "outputs": [],
   "source": [
    "# Tuple is basically immutable"
   ]
  },
  {
   "cell_type": "code",
   "execution_count": 5,
   "id": "4b0680c6-198a-499d-9f8f-3abfd9142bbc",
   "metadata": {},
   "outputs": [
    {
     "data": {
      "text/plain": [
       "0"
      ]
     },
     "execution_count": 5,
     "metadata": {},
     "output_type": "execute_result"
    }
   ],
   "source": [
    "t.count(5)"
   ]
  },
  {
   "cell_type": "code",
   "execution_count": 7,
   "id": "262e3a7a-ee20-4524-bff8-b86d3b08c6f9",
   "metadata": {},
   "outputs": [
    {
     "data": {
      "text/plain": [
       "(1, 2, 3, 'Mumbai', (45+67j), True, [3, 4, 5])"
      ]
     },
     "execution_count": 7,
     "metadata": {},
     "output_type": "execute_result"
    }
   ],
   "source": [
    "t"
   ]
  },
  {
   "cell_type": "code",
   "execution_count": 8,
   "id": "d5623e56-1bbc-41a8-ae6f-531d6dd72062",
   "metadata": {},
   "outputs": [
    {
     "data": {
      "text/plain": [
       "2"
      ]
     },
     "execution_count": 8,
     "metadata": {},
     "output_type": "execute_result"
    }
   ],
   "source": [
    "t.index(3)"
   ]
  },
  {
   "cell_type": "code",
   "execution_count": 10,
   "id": "3695a8da-5eaa-4d77-ad81-3a88dcaa36de",
   "metadata": {},
   "outputs": [
    {
     "data": {
      "text/plain": [
       "3"
      ]
     },
     "execution_count": 10,
     "metadata": {},
     "output_type": "execute_result"
    }
   ],
   "source": [
    "t.index('Mumbai')"
   ]
  },
  {
   "cell_type": "code",
   "execution_count": 11,
   "id": "809e814c-57bc-42d8-bca9-7d9450307bb5",
   "metadata": {},
   "outputs": [],
   "source": [
    "#Set"
   ]
  },
  {
   "cell_type": "code",
   "execution_count": 12,
   "id": "81469f18-db6a-4f0e-bb1e-9dc47ff95114",
   "metadata": {},
   "outputs": [],
   "source": [
    "s1={}"
   ]
  },
  {
   "cell_type": "code",
   "execution_count": 13,
   "id": "7aabe259-a140-4aae-969e-97faf17cd211",
   "metadata": {},
   "outputs": [
    {
     "data": {
      "text/plain": [
       "dict"
      ]
     },
     "execution_count": 13,
     "metadata": {},
     "output_type": "execute_result"
    }
   ],
   "source": [
    "type(s1)"
   ]
  },
  {
   "cell_type": "code",
   "execution_count": 16,
   "id": "726cc4ba-3783-4a52-9459-7a3b0373f3e9",
   "metadata": {},
   "outputs": [],
   "source": [
    "s2={2,3,4,5}"
   ]
  },
  {
   "cell_type": "code",
   "execution_count": 17,
   "id": "c243b031-33b1-4666-a5c9-d1fab48278ef",
   "metadata": {},
   "outputs": [
    {
     "data": {
      "text/plain": [
       "set"
      ]
     },
     "execution_count": 17,
     "metadata": {},
     "output_type": "execute_result"
    }
   ],
   "source": [
    "type(s2)"
   ]
  },
  {
   "cell_type": "code",
   "execution_count": 18,
   "id": "8a24dd0a-4a98-4cbc-a867-4ba769234d5b",
   "metadata": {},
   "outputs": [],
   "source": [
    "s3={1,4,3,False,6+3j,\"kails\"}"
   ]
  },
  {
   "cell_type": "code",
   "execution_count": 19,
   "id": "e6de3985-bffb-4f7e-9c01-cd373a14ea83",
   "metadata": {},
   "outputs": [
    {
     "data": {
      "text/plain": [
       "{(6+3j), 1, 3, 4, False, 'kails'}"
      ]
     },
     "execution_count": 19,
     "metadata": {},
     "output_type": "execute_result"
    }
   ],
   "source": [
    "s3"
   ]
  },
  {
   "cell_type": "code",
   "execution_count": 20,
   "id": "d18a88f3-a018-4d81-8496-dd07607835fa",
   "metadata": {},
   "outputs": [],
   "source": [
    "# In set we cannot keep list however we can keep Tuple"
   ]
  },
  {
   "cell_type": "code",
   "execution_count": 21,
   "id": "cc07addb-fb41-4892-aef1-80ebc7454153",
   "metadata": {},
   "outputs": [],
   "source": [
    "s4={3,8,9,4,8,3,5,4,8,2,2,9,9,1,2,3}"
   ]
  },
  {
   "cell_type": "code",
   "execution_count": 22,
   "id": "0cabb7ab-a608-4bc4-a43f-5120e61ccab4",
   "metadata": {},
   "outputs": [
    {
     "data": {
      "text/plain": [
       "{1, 2, 3, 4, 5, 8, 9}"
      ]
     },
     "execution_count": 22,
     "metadata": {},
     "output_type": "execute_result"
    }
   ],
   "source": [
    "s4"
   ]
  },
  {
   "cell_type": "code",
   "execution_count": 23,
   "id": "925d3e28-7e4a-4651-9550-24932943f12f",
   "metadata": {},
   "outputs": [],
   "source": [
    "# Set store only unique data"
   ]
  },
  {
   "cell_type": "code",
   "execution_count": 1,
   "id": "0a595920-0784-4032-8464-85bf36fb259a",
   "metadata": {},
   "outputs": [],
   "source": [
    "s5={234,45,87,90,2,3,234,5,45,90,'abc',78}"
   ]
  },
  {
   "cell_type": "code",
   "execution_count": 2,
   "id": "a701e15f-b4aa-43d4-9b1f-73135cb307ad",
   "metadata": {},
   "outputs": [
    {
     "data": {
      "text/plain": [
       "{2, 234, 3, 45, 5, 78, 87, 90, 'abc'}"
      ]
     },
     "execution_count": 2,
     "metadata": {},
     "output_type": "execute_result"
    }
   ],
   "source": [
    "s5"
   ]
  },
  {
   "cell_type": "code",
   "execution_count": 3,
   "id": "1780ac5c-1360-4f99-8db2-a76d56dd65c3",
   "metadata": {},
   "outputs": [
    {
     "ename": "TypeError",
     "evalue": "'set' object is not subscriptable",
     "output_type": "error",
     "traceback": [
      "\u001b[0;31m---------------------------------------------------------------------------\u001b[0m",
      "\u001b[0;31mTypeError\u001b[0m                                 Traceback (most recent call last)",
      "Cell \u001b[0;32mIn[3], line 1\u001b[0m\n\u001b[0;32m----> 1\u001b[0m \u001b[43ms5\u001b[49m\u001b[43m[\u001b[49m\u001b[38;5;241;43m0\u001b[39;49m\u001b[43m]\u001b[49m\n",
      "\u001b[0;31mTypeError\u001b[0m: 'set' object is not subscriptable"
     ]
    }
   ],
   "source": [
    "s5[0]"
   ]
  },
  {
   "cell_type": "code",
   "execution_count": 6,
   "id": "128950c3-cee9-4ddc-9442-0a967d502c0d",
   "metadata": {},
   "outputs": [],
   "source": [
    "s5.add(4)"
   ]
  },
  {
   "cell_type": "code",
   "execution_count": 7,
   "id": "17b96d8a-e718-4c99-98c4-75ffcfc37e37",
   "metadata": {},
   "outputs": [
    {
     "data": {
      "text/plain": [
       "{2, 234, 3, 4, 45, 5, 78, 87, 90, 'abc'}"
      ]
     },
     "execution_count": 7,
     "metadata": {},
     "output_type": "execute_result"
    }
   ],
   "source": [
    "s5"
   ]
  },
  {
   "cell_type": "code",
   "execution_count": 8,
   "id": "1f93ea13-e948-4981-80b2-979d58d4ec89",
   "metadata": {},
   "outputs": [],
   "source": [
    "s5.remove(2)"
   ]
  },
  {
   "cell_type": "code",
   "execution_count": 9,
   "id": "d7235140-55d7-4663-9eb4-4bc3ee41a725",
   "metadata": {},
   "outputs": [
    {
     "data": {
      "text/plain": [
       "{234, 3, 4, 45, 5, 78, 87, 90, 'abc'}"
      ]
     },
     "execution_count": 9,
     "metadata": {},
     "output_type": "execute_result"
    }
   ],
   "source": [
    "s5"
   ]
  },
  {
   "cell_type": "code",
   "execution_count": null,
   "id": "f7c069d3-007f-4134-b4bb-fc377d56ac59",
   "metadata": {},
   "outputs": [],
   "source": []
  }
 ],
 "metadata": {
  "kernelspec": {
   "display_name": "Python 3 (ipykernel)",
   "language": "python",
   "name": "python3"
  },
  "language_info": {
   "codemirror_mode": {
    "name": "ipython",
    "version": 3
   },
   "file_extension": ".py",
   "mimetype": "text/x-python",
   "name": "python",
   "nbconvert_exporter": "python",
   "pygments_lexer": "ipython3",
   "version": "3.10.8"
  }
 },
 "nbformat": 4,
 "nbformat_minor": 5
}
