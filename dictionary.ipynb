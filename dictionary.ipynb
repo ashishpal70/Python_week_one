{
 "cells": [
  {
   "cell_type": "code",
   "execution_count": 1,
   "id": "344f9e22-eba0-441f-84e7-96250cc7a811",
   "metadata": {},
   "outputs": [],
   "source": [
    "#Dictionary"
   ]
  },
  {
   "cell_type": "code",
   "execution_count": 2,
   "id": "d6b68956-fb29-41a4-9ec0-bab1e8b8bdf6",
   "metadata": {},
   "outputs": [],
   "source": [
    "d={}"
   ]
  },
  {
   "cell_type": "code",
   "execution_count": 3,
   "id": "52dfd4fe-d097-4792-88f5-0b4ca3141971",
   "metadata": {},
   "outputs": [
    {
     "data": {
      "text/plain": [
       "dict"
      ]
     },
     "execution_count": 3,
     "metadata": {},
     "output_type": "execute_result"
    }
   ],
   "source": [
    "type(d)"
   ]
  },
  {
   "cell_type": "code",
   "execution_count": 4,
   "id": "da4d0a97-2059-40d1-b4f0-03e0b3c8db9b",
   "metadata": {},
   "outputs": [],
   "source": [
    "d1={\"key\":\"ashish\"}"
   ]
  },
  {
   "cell_type": "code",
   "execution_count": 5,
   "id": "43950dea-10c2-4341-966c-3b1e6aa0c74c",
   "metadata": {},
   "outputs": [
    {
     "data": {
      "text/plain": [
       "{'key': 'ashish'}"
      ]
     },
     "execution_count": 5,
     "metadata": {},
     "output_type": "execute_result"
    }
   ],
   "source": [
    "d1"
   ]
  },
  {
   "cell_type": "code",
   "execution_count": 6,
   "id": "89780618-6c2e-4653-a684-129d73887568",
   "metadata": {},
   "outputs": [],
   "source": [
    "d2={'name':\"Ashish\",\"email\":\"asd@gmail.com\",\"number\":7789035}"
   ]
  },
  {
   "cell_type": "code",
   "execution_count": 7,
   "id": "fc3c9146-bd98-468a-83e7-85af2ea9bed5",
   "metadata": {},
   "outputs": [
    {
     "data": {
      "text/plain": [
       "{'name': 'Ashish', 'email': 'asd@gmail.com', 'number': 7789035}"
      ]
     },
     "execution_count": 7,
     "metadata": {},
     "output_type": "execute_result"
    }
   ],
   "source": [
    "d2"
   ]
  },
  {
   "cell_type": "code",
   "execution_count": 8,
   "id": "d79db242-59b9-4cf6-9344-bc6171550f28",
   "metadata": {},
   "outputs": [],
   "source": [
    "d3={234:\"ink\"}"
   ]
  },
  {
   "cell_type": "code",
   "execution_count": 9,
   "id": "b18b6478-6003-4c6a-a7b0-b8ffb10175a2",
   "metadata": {},
   "outputs": [
    {
     "data": {
      "text/plain": [
       "{234: 'ink'}"
      ]
     },
     "execution_count": 9,
     "metadata": {},
     "output_type": "execute_result"
    }
   ],
   "source": [
    "d3"
   ]
  },
  {
   "cell_type": "code",
   "execution_count": 10,
   "id": "e12fbd43-3f56-49eb-b0ab-47346d3b4f2d",
   "metadata": {},
   "outputs": [
    {
     "ename": "SyntaxError",
     "evalue": "invalid syntax (3631895067.py, line 1)",
     "output_type": "error",
     "traceback": [
      "\u001b[0;36m  Cell \u001b[0;32mIn[10], line 1\u001b[0;36m\u001b[0m\n\u001b[0;31m    d3={234:\"ink\" , @over:\"kumar\"}\u001b[0m\n\u001b[0m                    ^\u001b[0m\n\u001b[0;31mSyntaxError\u001b[0m\u001b[0;31m:\u001b[0m invalid syntax\n"
     ]
    }
   ],
   "source": [
    "d3={234:\"ink\" , @over:\"kumar\"}"
   ]
  },
  {
   "cell_type": "code",
   "execution_count": 11,
   "id": "a04c2b1a-8a6b-4c73-a162-446217160d30",
   "metadata": {},
   "outputs": [],
   "source": [
    "# In case of key string, numaric, boolean values are allowed"
   ]
  },
  {
   "cell_type": "code",
   "execution_count": 15,
   "id": "ea1fbae5-50a7-4c0a-97d7-02f7e07b9504",
   "metadata": {},
   "outputs": [],
   "source": [
    "d3={234:\"ink\"}"
   ]
  },
  {
   "cell_type": "code",
   "execution_count": 17,
   "id": "df4c067a-5b62-464a-951e-dc31912763b2",
   "metadata": {},
   "outputs": [
    {
     "data": {
      "text/plain": [
       "'ink'"
      ]
     },
     "execution_count": 17,
     "metadata": {},
     "output_type": "execute_result"
    }
   ],
   "source": [
    "d3[234]"
   ]
  },
  {
   "cell_type": "code",
   "execution_count": 18,
   "id": "8af25a9c-e6bc-4506-9983-69a7bf845c03",
   "metadata": {},
   "outputs": [],
   "source": [
    "d4={\"name\":\"Ashish\",\"email_id\":\"df@gmail.com\",\"name\":\"pal\"}"
   ]
  },
  {
   "cell_type": "code",
   "execution_count": 19,
   "id": "da9ddb66-1d34-43f9-8bea-698957e04d6e",
   "metadata": {},
   "outputs": [
    {
     "data": {
      "text/plain": [
       "'pal'"
      ]
     },
     "execution_count": 19,
     "metadata": {},
     "output_type": "execute_result"
    }
   ],
   "source": [
    "d4['name']"
   ]
  },
  {
   "cell_type": "code",
   "execution_count": 20,
   "id": "c25e1e67-9093-498e-b395-4c1fba7d4d07",
   "metadata": {},
   "outputs": [],
   "source": [
    "d5={\"company\":\"erwin\",\"courses\":[\"java\",\"c\",\"c++\"]}"
   ]
  },
  {
   "cell_type": "code",
   "execution_count": 21,
   "id": "53117820-6b3f-48fa-8fc8-3837921d85ee",
   "metadata": {},
   "outputs": [
    {
     "data": {
      "text/plain": [
       "{'company': 'erwin', 'courses': ['java', 'c', 'c++']}"
      ]
     },
     "execution_count": 21,
     "metadata": {},
     "output_type": "execute_result"
    }
   ],
   "source": [
    "d5"
   ]
  },
  {
   "cell_type": "code",
   "execution_count": 22,
   "id": "d0f6126c-4206-4053-94e2-5860f6cc31f3",
   "metadata": {},
   "outputs": [
    {
     "data": {
      "text/plain": [
       "['java', 'c', 'c++']"
      ]
     },
     "execution_count": 22,
     "metadata": {},
     "output_type": "execute_result"
    }
   ],
   "source": [
    "d5['courses']"
   ]
  },
  {
   "cell_type": "code",
   "execution_count": 25,
   "id": "6f130fff-b34f-4a8b-9326-e677a2bc7198",
   "metadata": {},
   "outputs": [],
   "source": [
    "d6={\"number\":[2,3,4,5,34,67],\"assignment\":(1,2,4,5,6),\"launch_date\":{12,31,19},\"class_timing\":{\"java\":8,\"DS\":9,\"C\":10}}"
   ]
  },
  {
   "cell_type": "code",
   "execution_count": 24,
   "id": "0d4446e4-6569-4235-953f-5172f151453b",
   "metadata": {},
   "outputs": [
    {
     "data": {
      "text/plain": [
       "{'number': [2, 3, 4, 5, 34, 67],\n",
       " 'assignment': (1, 2, 4, 5, 6),\n",
       " 'launch_date': {12, 19, 31}}"
      ]
     },
     "execution_count": 24,
     "metadata": {},
     "output_type": "execute_result"
    }
   ],
   "source": [
    "d6"
   ]
  },
  {
   "cell_type": "code",
   "execution_count": 26,
   "id": "9ca6c07b-609b-489b-ad05-dc0fa9ec1c51",
   "metadata": {},
   "outputs": [
    {
     "data": {
      "text/plain": [
       "{'number': [2, 3, 4, 5, 34, 67],\n",
       " 'assignment': (1, 2, 4, 5, 6),\n",
       " 'launch_date': {12, 19, 31},\n",
       " 'class_timing': {'java': 8, 'DS': 9, 'C': 10}}"
      ]
     },
     "execution_count": 26,
     "metadata": {},
     "output_type": "execute_result"
    }
   ],
   "source": [
    "d6"
   ]
  },
  {
   "cell_type": "code",
   "execution_count": 28,
   "id": "bfeadc74-bcda-4b37-b96f-04a881658459",
   "metadata": {},
   "outputs": [
    {
     "data": {
      "text/plain": [
       "8"
      ]
     },
     "execution_count": 28,
     "metadata": {},
     "output_type": "execute_result"
    }
   ],
   "source": [
    "d6['class_timing']['java']"
   ]
  },
  {
   "cell_type": "code",
   "execution_count": 31,
   "id": "dfcaedc4-839e-47f7-883a-2a31fea9936b",
   "metadata": {},
   "outputs": [],
   "source": [
    "d6['mentor']=[\"sudh\",\"krish\"]"
   ]
  },
  {
   "cell_type": "code",
   "execution_count": 32,
   "id": "be07363c-37f1-4202-988c-7208da1e8102",
   "metadata": {},
   "outputs": [
    {
     "data": {
      "text/plain": [
       "{'number': [2, 3, 4, 5, 34, 67],\n",
       " 'assignment': (1, 2, 4, 5, 6),\n",
       " 'launch_date': {12, 19, 31},\n",
       " 'class_timing': {'java': 8, 'DS': 9, 'C': 10},\n",
       " 'mentor': ['sudh', 'krish']}"
      ]
     },
     "execution_count": 32,
     "metadata": {},
     "output_type": "execute_result"
    }
   ],
   "source": [
    "d6"
   ]
  },
  {
   "cell_type": "code",
   "execution_count": 33,
   "id": "4fe2742c-665f-4332-83b7-b46b610e8c8c",
   "metadata": {},
   "outputs": [],
   "source": [
    "del d6['number']"
   ]
  },
  {
   "cell_type": "code",
   "execution_count": 34,
   "id": "c204a475-c8d2-4f70-ab4a-4d81fa3e1ef3",
   "metadata": {},
   "outputs": [
    {
     "data": {
      "text/plain": [
       "{'assignment': (1, 2, 4, 5, 6),\n",
       " 'launch_date': {12, 19, 31},\n",
       " 'class_timing': {'java': 8, 'DS': 9, 'C': 10},\n",
       " 'mentor': ['sudh', 'krish']}"
      ]
     },
     "execution_count": 34,
     "metadata": {},
     "output_type": "execute_result"
    }
   ],
   "source": [
    "d6"
   ]
  },
  {
   "cell_type": "code",
   "execution_count": 35,
   "id": "73b2cf91-0a94-49b1-9164-2f6e62d773b3",
   "metadata": {},
   "outputs": [
    {
     "data": {
      "text/plain": [
       "dict_keys(['assignment', 'launch_date', 'class_timing', 'mentor'])"
      ]
     },
     "execution_count": 35,
     "metadata": {},
     "output_type": "execute_result"
    }
   ],
   "source": [
    "d6.keys()"
   ]
  },
  {
   "cell_type": "code",
   "execution_count": 36,
   "id": "37db5af3-e386-4a1d-82ae-b80542735817",
   "metadata": {},
   "outputs": [
    {
     "data": {
      "text/plain": [
       "['assignment', 'launch_date', 'class_timing', 'mentor']"
      ]
     },
     "execution_count": 36,
     "metadata": {},
     "output_type": "execute_result"
    }
   ],
   "source": [
    "list(d6.keys())"
   ]
  },
  {
   "cell_type": "code",
   "execution_count": 37,
   "id": "a2732f3d-876b-4225-8120-5cc6e3582655",
   "metadata": {},
   "outputs": [
    {
     "data": {
      "text/plain": [
       "[(1, 2, 4, 5, 6),\n",
       " {12, 19, 31},\n",
       " {'java': 8, 'DS': 9, 'C': 10},\n",
       " ['sudh', 'krish']]"
      ]
     },
     "execution_count": 37,
     "metadata": {},
     "output_type": "execute_result"
    }
   ],
   "source": [
    "list(d6.values())"
   ]
  },
  {
   "cell_type": "code",
   "execution_count": 39,
   "id": "cfc127a8-f67a-4df2-a3f1-460c4b22e6b5",
   "metadata": {},
   "outputs": [
    {
     "data": {
      "text/plain": [
       "dict_items([('assignment', (1, 2, 4, 5, 6)), ('launch_date', {19, 12, 31}), ('class_timing', {'java': 8, 'DS': 9, 'C': 10}), ('mentor', ['sudh', 'krish'])])"
      ]
     },
     "execution_count": 39,
     "metadata": {},
     "output_type": "execute_result"
    }
   ],
   "source": [
    "d6.items()\n",
    "# It will give both key and values"
   ]
  },
  {
   "cell_type": "code",
   "execution_count": 40,
   "id": "c84c8fd9-2a34-480b-990b-6287bf3fab7d",
   "metadata": {},
   "outputs": [
    {
     "data": {
      "text/plain": [
       "(1, 2, 4, 5, 6)"
      ]
     },
     "execution_count": 40,
     "metadata": {},
     "output_type": "execute_result"
    }
   ],
   "source": [
    "d6.pop('assignment')"
   ]
  },
  {
   "cell_type": "code",
   "execution_count": null,
   "id": "18ddf038-f524-483f-8179-2a648d63bf9d",
   "metadata": {},
   "outputs": [
    {
     "data": {
      "text/plain": [
       "{'launch_date': {12, 19, 31},\n",
       " 'class_timing': {'java': 8, 'DS': 9, 'C': 10},\n",
       " 'mentor': ['sudh', 'krish']}"
      ]
     },
     "execution_count": 41,
     "metadata": {},
     "output_type": "execute_result"
    }
   ],
   "source": [
    "d"
   ]
  }
 ],
 "metadata": {
  "kernelspec": {
   "display_name": "Python 3 (ipykernel)",
   "language": "python",
   "name": "python3"
  },
  "language_info": {
   "codemirror_mode": {
    "name": "ipython",
    "version": 3
   },
   "file_extension": ".py",
   "mimetype": "text/x-python",
   "name": "python",
   "nbconvert_exporter": "python",
   "pygments_lexer": "ipython3",
   "version": "3.10.8"
  }
 },
 "nbformat": 4,
 "nbformat_minor": 5
}
